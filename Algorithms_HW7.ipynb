{
 "cells": [
  {
   "cell_type": "markdown",
   "metadata": {},
   "source": [
    "<h3>Домашнее задание</h3>"
   ]
  },
  {
   "cell_type": "markdown",
   "metadata": {},
   "source": [
    "<ol>\n",
    "<li>К алгоритму kNN, реализованному на уроке, реализовать добавление весов для соседей по любому из показанных на уроке принципов.</li>\n",
    "<li>*Написать функцию подсчета метрики качества кластеризации как среднее квадратичное внутрикластерное расстояние и построить график ее зависимости от количества кластеров k (взять от 1 до 10) для выборки данных из данного урока (создать датасет, как в методичке).</li>\n",
    "<li>*Оптимизировать код для KNN (оставить один цикл, либо обойтись без циклов вообще).</li>\n",
    "</ol>"
   ]
  },
  {
   "cell_type": "code",
   "execution_count": 1,
   "metadata": {},
   "outputs": [],
   "source": [
    "import numpy as np\n",
    "from sklearn.model_selection import train_test_split\n",
    "from sklearn.datasets import load_iris\n",
    "import matplotlib.pyplot as plt\n",
    "from matplotlib.colors import ListedColormap"
   ]
  },
  {
   "cell_type": "code",
   "execution_count": 2,
   "metadata": {},
   "outputs": [],
   "source": [
    "X,y=load_iris(return_X_y=True)"
   ]
  },
  {
   "cell_type": "code",
   "execution_count": 3,
   "metadata": {},
   "outputs": [],
   "source": [
    "# Для наглядности возьмем только первые два признака (всего в датасете их 4)\n",
    "X=X[:,:2]"
   ]
  },
  {
   "cell_type": "code",
   "execution_count": 4,
   "metadata": {},
   "outputs": [
    {
     "data": {
      "text/plain": [
       "((120, 2), (30, 2))"
      ]
     },
     "execution_count": 4,
     "metadata": {},
     "output_type": "execute_result"
    }
   ],
   "source": [
    "X_train,X_test,y_train,y_test=train_test_split(X,y,test_size=0.2,random_state=1,stratify=y)\n",
    "\n",
    "X_train.shape, X_test.shape"
   ]
  },
  {
   "cell_type": "code",
   "execution_count": 5,
   "metadata": {},
   "outputs": [
    {
     "data": {
      "text/plain": [
       "array([[5.1, 3.7],\n",
       "       [4.6, 3.2],\n",
       "       [6.9, 3.1],\n",
       "       [5.5, 2.6],\n",
       "       [5.6, 2.9],\n",
       "       [6. , 3.4],\n",
       "       [6.3, 2.3],\n",
       "       [6. , 2.2],\n",
       "       [6.3, 3.4],\n",
       "       [6.9, 3.1],\n",
       "       [6.7, 3. ],\n",
       "       [5. , 3.2],\n",
       "       [5.4, 3. ],\n",
       "       [6. , 2.7],\n",
       "       [6.3, 2.9],\n",
       "       [4.8, 3.4],\n",
       "       [6.7, 2.5],\n",
       "       [6.2, 2.2],\n",
       "       [5.6, 2.7],\n",
       "       [5. , 3.4],\n",
       "       [4.7, 3.2],\n",
       "       [6.3, 2.7],\n",
       "       [6.8, 3.2],\n",
       "       [5.7, 2.8],\n",
       "       [5.8, 2.7],\n",
       "       [6.4, 2.8],\n",
       "       [4.4, 3. ],\n",
       "       [4.7, 3.2],\n",
       "       [6.7, 3.1],\n",
       "       [5.1, 3.4],\n",
       "       [5.5, 4.2],\n",
       "       [5.4, 3.4],\n",
       "       [4.9, 3. ],\n",
       "       [6.5, 3. ],\n",
       "       [5.8, 4. ],\n",
       "       [5.5, 2.4],\n",
       "       [6.7, 3.3],\n",
       "       [5.9, 3. ],\n",
       "       [6.3, 2.5],\n",
       "       [7.7, 2.8],\n",
       "       [6.3, 2.5],\n",
       "       [6. , 2.9],\n",
       "       [6.3, 2.8],\n",
       "       [7.7, 3. ],\n",
       "       [6.2, 2.9],\n",
       "       [6.7, 3.1],\n",
       "       [5.8, 2.8],\n",
       "       [5.8, 2.7],\n",
       "       [5.7, 2.8],\n",
       "       [5.1, 3.8],\n",
       "       [6.3, 3.3],\n",
       "       [5.2, 3.4],\n",
       "       [6.5, 3.2],\n",
       "       [5.1, 3.8],\n",
       "       [4.6, 3.6],\n",
       "       [6.1, 2.8],\n",
       "       [4.9, 3.1],\n",
       "       [5.6, 3. ],\n",
       "       [7.4, 2.8],\n",
       "       [4.3, 3. ],\n",
       "       [6.9, 3.2],\n",
       "       [5. , 3.5],\n",
       "       [5.7, 3.8],\n",
       "       [6.1, 2.6],\n",
       "       [6. , 3. ],\n",
       "       [5. , 3. ],\n",
       "       [6.7, 3.1],\n",
       "       [5.4, 3.7],\n",
       "       [5.2, 3.5],\n",
       "       [6.4, 3.2],\n",
       "       [7.2, 3. ],\n",
       "       [5.2, 2.7],\n",
       "       [6.6, 3. ],\n",
       "       [4.8, 3.1],\n",
       "       [5. , 3.3],\n",
       "       [5.9, 3.2],\n",
       "       [6.4, 3.2],\n",
       "       [5.8, 2.6],\n",
       "       [5.5, 2.5],\n",
       "       [6.7, 3.3],\n",
       "       [5.8, 2.7],\n",
       "       [6.5, 3. ],\n",
       "       [4.6, 3.4],\n",
       "       [6.6, 2.9],\n",
       "       [6.4, 2.8],\n",
       "       [6.1, 3. ],\n",
       "       [5.7, 3. ],\n",
       "       [5.4, 3.4],\n",
       "       [5.1, 3.3],\n",
       "       [5.9, 3. ],\n",
       "       [5.7, 2.6],\n",
       "       [7.7, 3.8],\n",
       "       [7. , 3.2],\n",
       "       [5.3, 3.7],\n",
       "       [6.1, 2.9],\n",
       "       [7.7, 2.6],\n",
       "       [7.2, 3.2],\n",
       "       [5.1, 3.8],\n",
       "       [5. , 3.6],\n",
       "       [6.2, 2.8],\n",
       "       [6.9, 3.1],\n",
       "       [5.1, 3.5],\n",
       "       [6.4, 3.1],\n",
       "       [5. , 2. ],\n",
       "       [5.6, 2.5],\n",
       "       [5.5, 2.4],\n",
       "       [7.2, 3.6],\n",
       "       [5.2, 4.1],\n",
       "       [7.6, 3. ],\n",
       "       [6.7, 3. ],\n",
       "       [5.8, 2.7],\n",
       "       [5.5, 3.5],\n",
       "       [7.9, 3.8],\n",
       "       [4.8, 3. ],\n",
       "       [5.7, 2.9],\n",
       "       [4.5, 2.3],\n",
       "       [5. , 2.3],\n",
       "       [5. , 3.4],\n",
       "       [4.6, 3.1],\n",
       "       [4.4, 3.2]])"
      ]
     },
     "execution_count": 5,
     "metadata": {},
     "output_type": "execute_result"
    }
   ],
   "source": [
    "X_train"
   ]
  },
  {
   "cell_type": "code",
   "execution_count": 6,
   "metadata": {},
   "outputs": [
    {
     "data": {
      "image/png": "[encoded data removed]",
      "text/plain": [
       "<Figure size 504x504 with 1 Axes>"
      ]
     },
     "metadata": {
      "needs_background": "light"
     },
     "output_type": "display_data"
    }
   ],
   "source": [
    "cmap=ListedColormap(['red','green','orange'])\n",
    "plt.figure(figsize=(7,7))\n",
    "plt.scatter(X[:,0],X[:,1],c=y,cmap=cmap)\n",
    "plt.show()"
   ]
  },
  {
   "cell_type": "code",
   "execution_count": 7,
   "metadata": {},
   "outputs": [],
   "source": [
    "#Расчет Евклидова расстояния\n",
    "def e_metrics(x1,x2):\n",
    "    distance=np.sum(np.square(x1-x2))\n",
    "        \n",
    "    return np.sqrt(distance)"
   ]
  },
  {
   "cell_type": "code",
   "execution_count": 8,
   "metadata": {},
   "outputs": [],
   "source": [
    "#Функция реализации весов через номер соседа. ДЗ 1\n",
    "def neighbor_weight(q,neighbors_list):\n",
    "    some_dict={}\n",
    "    for element in enumerate(neighbors_list,1):\n",
    "        if element[1][1] not in some_dict:\n",
    "            some_dict[element[1][1]]=0\n",
    "        some_dict[element[1][1]]+=q**element[0]\n",
    "    return some_dict"
   ]
  },
  {
   "cell_type": "code",
   "execution_count": 9,
   "metadata": {},
   "outputs": [],
   "source": [
    "#Оптимизирована функция knn\n",
    "def knn(x_train,y_train,x_test,k,q=False):\n",
    "    answers=[]\n",
    "    \n",
    "    for object_ in x_test:\n",
    "        distance_list=[]\n",
    "        classes={}\n",
    "\n",
    "        #Находим расстояние от каждого объекта тестовой выборки до всех точек тренировочного сета\n",
    "        for i in range(len(x_train)): \n",
    "            distance=e_metrics(object_,x_train[i])\n",
    "            distance_list.append((distance,y_train[i]))\n",
    "        \n",
    "        #Сортируем список\n",
    "        distance_list.sort()\n",
    "        \n",
    "        #Если q задан на входе, находим веса каждого класса\n",
    "        if q:\n",
    "            classes=neighbor_weight(q,distance_list[:k])\n",
    "        #Если q не задан, расчет производим исходя из частоты класса\n",
    "        else:\n",
    "            for value,key in distance_list[:k]:\n",
    "                if key not in classes:\n",
    "                    classes[key]=0\n",
    "                classes[key]+=1\n",
    "            \n",
    "        #Выбор целевого класса    \n",
    "        target_class=max(classes,key=classes.get)\n",
    "        answers.append(target_class)\n",
    "    \n",
    "    return answers"
   ]
  },
  {
   "cell_type": "code",
   "execution_count": 10,
   "metadata": {},
   "outputs": [],
   "source": [
    "#Функция расчета точности\n",
    "def accuracy(y_pred,y_real):\n",
    "    return sum(y_pred==y_real)/len(y_real)"
   ]
  },
  {
   "cell_type": "code",
   "execution_count": 11,
   "metadata": {},
   "outputs": [],
   "source": [
    "#Запуск классического варианта knn\n",
    "y_pred=knn(X_train,y_train,X_test,5)"
   ]
  },
  {
   "cell_type": "code",
   "execution_count": 12,
   "metadata": {},
   "outputs": [
    {
     "data": {
      "text/plain": [
       "0.7333333333333333"
      ]
     },
     "execution_count": 12,
     "metadata": {},
     "output_type": "execute_result"
    }
   ],
   "source": [
    "#Расчет точности для классического варианта\n",
    "accuracy(y_pred,y_test)"
   ]
  },
  {
   "cell_type": "code",
   "execution_count": 13,
   "metadata": {},
   "outputs": [],
   "source": [
    "#Запуск варианта knn с весами\n",
    "y_pred_w=knn(X_train,y_train,X_test,5,0.5)"
   ]
  },
  {
   "cell_type": "code",
   "execution_count": 14,
   "metadata": {},
   "outputs": [
    {
     "data": {
      "text/plain": [
       "0.7"
      ]
     },
     "execution_count": 14,
     "metadata": {},
     "output_type": "execute_result"
    }
   ],
   "source": [
    "accuracy(y_pred_w,y_test)"
   ]
  },
  {
   "cell_type": "markdown",
   "metadata": {},
   "source": [
    "1. К алгоритму kNN, реализованному на уроке, реализовать добавление весов для соседей по любому из показанных на уроке принципов"
   ]
  },
  {
   "cell_type": "code",
   "execution_count": null,
   "metadata": {},
   "outputs": [],
   "source": [
    "#См. выше"
   ]
  }
 ],
 "metadata": {
  "kernelspec": {
   "display_name": "Python 3",
   "language": "python",
   "name": "python3"
  },
  "language_info": {
   "codemirror_mode": {
    "name": "ipython",
    "version": 3
   },
   "file_extension": ".py",
   "mimetype": "text/x-python",
   "name": "python",
   "nbconvert_exporter": "python",
   "pygments_lexer": "ipython3",
   "version": "3.7.4"
  }
 },
 "nbformat": 4,
 "nbformat_minor": 2
}
