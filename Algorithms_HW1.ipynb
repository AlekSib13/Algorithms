{
 "cells": [
  {
   "cell_type": "code",
   "execution_count": 1,
   "metadata": {},
   "outputs": [],
   "source": [
    "import numpy as np, pandas as pd,matplotlib as mtl"
   ]
  },
  {
   "cell_type": "code",
   "execution_count": 2,
   "metadata": {},
   "outputs": [],
   "source": [
    "import matplotlib.pyplot as plt"
   ]
  },
  {
   "cell_type": "code",
   "execution_count": 3,
   "metadata": {},
   "outputs": [],
   "source": [
    "X = np.array([[ 1,  1],\n",
    "              [ 1,  1],\n",
    "              [ 1,  2],\n",
    "              [ 1,  5],\n",
    "              [ 1,  3],\n",
    "              [ 1,  0],\n",
    "              [ 1,  5],\n",
    "              [ 1, 10],\n",
    "              [ 1,  1],\n",
    "              [ 1,  2]])"
   ]
  },
  {
   "cell_type": "code",
   "execution_count": 4,
   "metadata": {},
   "outputs": [],
   "source": [
    "y = [45, 55, 50, 55, 60, 35, 75, 80, 50, 60]"
   ]
  },
  {
   "cell_type": "code",
   "execution_count": 5,
   "metadata": {},
   "outputs": [],
   "source": [
    "def calc_mse(y, y_pred):\n",
    "    err = np.mean((y - y_pred)**2)\n",
    "    return err"
   ]
  },
  {
   "cell_type": "markdown",
   "metadata": {},
   "source": [
    "<h3>Домашнее задание</h3>"
   ]
  },
  {
   "cell_type": "markdown",
   "metadata": {},
   "source": [
    "1. Подберите скорость обучения (eta) и количество итераций"
   ]
  },
  {
   "cell_type": "code",
   "execution_count": 6,
   "metadata": {},
   "outputs": [
    {
     "name": "stdout",
     "output_type": "stream",
     "text": [
      "Введите количество итераций: 1400\n"
     ]
    }
   ],
   "source": [
    "input_=int(input('Введите количество итераций: '))"
   ]
  },
  {
   "cell_type": "code",
   "execution_count": 7,
   "metadata": {},
   "outputs": [],
   "source": [
    "def change_parameter(param1):\n",
    "    if param1<=10000 and param1>5000:\n",
    "        eta=0.5\n",
    "        return eta,param1\n",
    "    elif param1<=5000 and param1>1000:\n",
    "        eta=1e-1\n",
    "        return eta,param1\n",
    "    elif param1<=1000:\n",
    "        eta=1e-2\n",
    "        return eta,param1\n",
    "    else:\n",
    "        print('Не верно указано число итераций')"
   ]
  },
  {
   "cell_type": "code",
   "execution_count": 8,
   "metadata": {},
   "outputs": [],
   "source": [
    "def draw(*args):\n",
    "    title_dict={'family':'Calibri','fontsize':16,'fontweight':'bold'}\n",
    "    x_args,y_args,n_iter=args\n",
    "    plt.figure(figsize=(10,8))\n",
    "    plt.plot(x_args,y_args,color='red')\n",
    "    plt.title('MSE dynamics',fontdict=title_dict)\n",
    "    plt.xlabel('number of iters')\n",
    "    plt.ylabel('MSE')\n",
    "    if n_iter>1000:\n",
    "        plt.yscale(value='log')\n",
    "    plt.show()"
   ]
  },
  {
   "cell_type": "code",
   "execution_count": 9,
   "metadata": {},
   "outputs": [
    {
     "name": "stdout",
     "output_type": "stream",
     "text": [
      "Number of objects = 10        \n",
      "Learning rate = 0.1        \n",
      "Initial weights = [1.  0.5] \n",
      "\n",
      "Iteration #0: W_new = [11.8 38.2], MSE = 3047.75,eta=0.09090909090909091\n",
      "Iteration #50: W_new = [1.55345341e+11 8.56677968e+11], MSE = 9.572295620500076e+24,eta=0.056447393005377725\n",
      "Iteration #100: W_new = [48.41963663 22.99884414], MSE = 53518.86,eta=0.03504938994813923\n",
      "Iteration #150: W_new = [45.03191704  3.81804575], MSE = 43.97,eta=0.021762913579014855\n",
      "Iteration #200: W_new = [45.0492265   3.81490695], MSE = 43.97,eta=0.013513057093103954\n",
      "Iteration #250: W_new = [45.0545817   3.81393586], MSE = 43.97,eta=0.008390545288824004\n",
      "Iteration #300: W_new = [45.05675085  3.81354252], MSE = 43.97,eta=0.00520986848192436\n",
      "Iteration #350: W_new = [45.05778605  3.8133548 ], MSE = 43.97,eta=0.003234918430760665\n",
      "Iteration #400: W_new = [45.05833235  3.81325574], MSE = 43.97,eta=0.002008629832016357\n",
      "Iteration #450: W_new = [45.05863908  3.81320012], MSE = 43.97,eta=0.0012472010928316845\n",
      "Iteration #500: W_new = [45.05881801  3.81316767], MSE = 43.97,eta=0.0007744137526818734\n",
      "Iteration #550: W_new = [45.0589249   3.81314829], MSE = 43.97,eta=0.00048085001191043396\n",
      "Iteration #600: W_new = [45.05898969  3.81313654], MSE = 43.97,eta=0.00029857002558843703\n",
      "Iteration #650: W_new = [45.05902932  3.81312935], MSE = 43.97,eta=0.00018538849531417805\n",
      "Iteration #700: W_new = [45.05905371  3.81312493], MSE = 43.97,eta=0.00011511166979042538\n",
      "Iteration #750: W_new = [45.05906876  3.8131222 ], MSE = 43.97,eta=7.147529030581948e-05\n",
      "Iteration #800: W_new = [45.05907808  3.81312051], MSE = 43.97,eta=4.438053182272662e-05\n",
      "Iteration #850: W_new = [45.05908385  3.81311947], MSE = 43.97,eta=2.7556818537436346e-05\n",
      "Iteration #900: W_new = [45.05908743  3.81311882], MSE = 43.97,eta=1.7110616225566025e-05\n",
      "Iteration #950: W_new = [45.05908965  3.81311842], MSE = 43.97,eta=1.0624346465135898e-05\n",
      "Iteration #1000: W_new = [45.05909102  3.81311817], MSE = 43.97,eta=6.596883263771037e-06\n",
      "Iteration #1050: W_new = [45.05909188  3.81311801], MSE = 43.97,eta=4.0961454842075085e-06\n",
      "Iteration #1100: W_new = [45.05909241  3.81311791], MSE = 43.97,eta=2.543384073496909e-06\n",
      "Iteration #1150: W_new = [45.05909274  3.81311785], MSE = 43.97,eta=1.579241403963284e-06\n",
      "Iteration #1200: W_new = [45.05909294  3.81311782], MSE = 43.97,eta=9.805846619786796e-07\n",
      "Iteration #1250: W_new = [45.05909307  3.81311779], MSE = 43.97,eta=6.08865925687316e-07\n"
     ]
    },
    {
     "data": {
      "image/png": "[encoded data removed]",
      "text/plain": [
       "<Figure size 720x576 with 1 Axes>"
      ]
     },
     "metadata": {
      "needs_background": "light"
     },
     "output_type": "display_data"
    }
   ],
   "source": [
    "n = X.shape[0]\n",
    "eta,n_iter=change_parameter(input_)\n",
    "\n",
    "W = np.array([1, 0.5])\n",
    "print(f'Number of objects = {n} \\\n",
    "       \\nLearning rate = {eta} \\\n",
    "       \\nInitial weights = {W} \\n')\n",
    "number_of_iters=[]\n",
    "number_of_MSE=[]\n",
    "for i in range(n_iter):\n",
    "    y_pred = np.dot(X, W)\n",
    "    err = calc_mse(y, y_pred)\n",
    "    for k in range(W.shape[0]):\n",
    "        W[k] -= eta * (1/n * 2 * X[:, k] @ (y_pred - y))\n",
    "        MSE=round(err, 2)\n",
    "\n",
    "        \n",
    "    if i % 10 == 0:\n",
    "        eta /= 1.1\n",
    "    \n",
    "    if i%10==0:\n",
    "        number_of_iters.append(i)\n",
    "        number_of_MSE.append(MSE)\n",
    "    if n_iter<=500:\n",
    "        if i%10==0:\n",
    "            print(f'Iteration #{i}: W_new = {W}, MSE = {MSE},eta={eta}')\n",
    "    elif n_iter>500 and n_iter<=1000:\n",
    "        if i%20==0:\n",
    "            print(f'Iteration #{i}: W_new = {W}, MSE = {MSE},eta={eta}')\n",
    "    else:\n",
    "        if i%50==0:\n",
    "            print(f'Iteration #{i}: W_new = {W}, MSE = {MSE},eta={eta}')\n",
    "            \n",
    "draw(number_of_iters,number_of_MSE,n_iter)"
   ]
  },
  {
   "cell_type": "code",
   "execution_count": 9,
   "metadata": {},
   "outputs": [],
   "source": [
    "#Увеличение количества итераций, при сохранении скорости обучения или ее постепенном уменьшении сокращает ошибку постепенно.\n",
    "#Если изначально берем бОльшую скорость обучения, например на 1e-1 или 0.5, то есть риск, что мы перескочим точку эксремума(точку минимума), что\n",
    "#и прозошло. Далее по мере уменьшения скорости обучения, мы приблежаемся к точке экстремума(точка минимума). В решении данной задачи\n",
    "#мы рассмотрели пример, когда взяли бОльшую скорость обучения, а потом резко ее уменьшили, на что увидели характерное поведение\n",
    "#ошибки: сперва она сильна выросла, потом также сильно рухнула и далее держалась на том уже уровне, поскольку скорость обучения\n",
    "#стала весьма мала"
   ]
  },
  {
   "cell_type": "markdown",
   "metadata": {},
   "source": [
    "-----------------------"
   ]
  },
  {
   "cell_type": "markdown",
   "metadata": {},
   "source": [
    "2*. В этом коде мы избавляемся от итераций по весам, но тут есть ошибка, исправьте ее"
   ]
  },
  {
   "cell_type": "code",
   "execution_count": 10,
   "metadata": {},
   "outputs": [
    {
     "name": "stdout",
     "output_type": "stream",
     "text": [
      "Number of objects = 10        \n",
      "Learning rate = 0.01        \n",
      "Initial weights = [1.  0.5] \n",
      "\n",
      "Iteration #0: W_new = [2.08 4.27], MSE = 3047.75,eta=0.00909090909090909\n",
      "Iteration #10: W_new = [ 6.67106886 10.61676385], MSE = 749.71,eta=0.008264462809917354\n",
      "Iteration #20: W_new = [ 9.49320908 10.25731657], MSE = 648.91,eta=0.007513148009015776\n",
      "Iteration #30: W_new = [11.85740092  9.83349244], MSE = 570.46,eta=0.006830134553650705\n",
      "Iteration #40: W_new = [13.86876921  9.46898661], MSE = 508.03,eta=0.006209213230591549\n",
      "Iteration #50: W_new = [15.59085668  9.15672679], MSE = 457.73,eta=0.005644739300537772\n",
      "Iteration #60: W_new = [17.07337653  8.88789585], MSE = 416.77,eta=0.005131581182307065\n",
      "Iteration #70: W_new = [18.35601294  8.65530964], MSE = 383.06,eta=0.004665073802097332\n",
      "Iteration #80: W_new = [19.47073522  8.45317196], MSE = 355.08,eta=0.004240976183724847\n",
      "Iteration #90: W_new = [20.44350656  8.27677488], MSE = 331.65,eta=0.0038554328942953147\n"
     ]
    }
   ],
   "source": [
    "n = X.shape[0]\n",
    "\n",
    "eta = 1e-2 \n",
    "n_iter = 100\n",
    "\n",
    "W = np.array([1, 0.5])\n",
    "print(f'Number of objects = {n} \\\n",
    "       \\nLearning rate = {eta} \\\n",
    "       \\nInitial weights = {W} \\n')\n",
    "\n",
    "for i in range(n_iter):\n",
    "    y_pred = np.dot(X, W)\n",
    "    err = calc_mse(y, y_pred)\n",
    "    W -= eta * (1/n * 2 * X.T @(y_pred - y))\n",
    "    if i % 10 == 0:\n",
    "        eta /= 1.1\n",
    "        print(f'Iteration #{i}: W_new = {W}, MSE = {round(err, 2)},eta={eta}')\n",
    "        \n",
    "#Убрал внутренний цикл for, вместо W[k] -= eta * (1/n * 2 * X[:, k] @ (y_pred - y)) записал: W -= eta * (1/n * 2 * X.T @(y_pred - y))"
   ]
  },
  {
   "cell_type": "markdown",
   "metadata": {},
   "source": [
    "---------------------"
   ]
  },
  {
   "cell_type": "markdown",
   "metadata": {},
   "source": [
    "3*. Вместо того, чтобы задавать количество итераций, задайте другое условие останова алгоритма - когда веса перестают изменяться меньше определенного порога $\\epsilon$."
   ]
  },
  {
   "cell_type": "code",
   "execution_count": 11,
   "metadata": {},
   "outputs": [
    {
     "name": "stdout",
     "output_type": "stream",
     "text": [
      "Number of objects = 10        \n",
      "Learning rate = 0.01        \n",
      "Initial weights = [1.  0.5] \n",
      "\n",
      "Iteration #10: W_new = [ 6.64172205 10.62940003], MSE = 752.02,eta=0.00909090909090909\n",
      "Iteration #20: W_new = [ 9.73455758 10.2154565 ], MSE = 641.65,eta=0.008264462809917354\n",
      "Iteration #30: W_new = [12.3092558   9.75169096], MSE = 556.94,eta=0.007513148009015776\n",
      "Iteration #40: W_new = [14.48555442  9.35715272], MSE = 490.42,eta=0.006830134553650705\n",
      "Iteration #50: W_new = [16.33769149  9.02130082], MSE = 437.48,eta=0.006209213230591549\n",
      "Iteration #60: W_new = [17.92347703  8.73374335], MSE = 394.83,eta=0.005644739300537772\n",
      "Iteration #70: W_new = [19.28865829  8.4861888 ], MSE = 360.09,eta=0.005131581182307065\n",
      "Iteration #80: W_new = [20.46977663  8.27201121], MSE = 331.51,eta=0.004665073802097332\n",
      "Iteration #90: W_new = [21.49627093  8.08587229], MSE = 307.78,eta=0.004240976183724847\n",
      "Iteration #100: W_new = [22.39204942  7.92343668], MSE = 287.92,eta=0.0038554328942953147\n",
      "Iteration #110: W_new = [23.17667603  7.78115674], MSE = 271.16,eta=0.003504938994813922\n",
      "Iteration #120: W_new = [23.8662741   7.65610876], MSE = 256.93,eta=0.0031863081771035654\n",
      "Iteration #130: W_new = [24.47422071  7.54586702], MSE = 244.78,eta=0.0028966437973668773\n",
      "Iteration #140: W_new = [25.01168466  7.44840621], MSE = 234.33,eta=0.0026333125430607974\n",
      "Iteration #150: W_new = [25.48804654  7.36202533], MSE = 225.3,eta=0.002393920493691634\n",
      "Iteration #160: W_new = [25.91122911  7.2852877 ], MSE = 217.47,eta=0.0021762913579014853\n",
      "Iteration #170: W_new = [26.28795916  7.21697351], MSE = 210.65,eta=0.00197844668900135\n",
      "Iteration #180: W_new = [26.62397624  7.15604199], MSE = 204.68,eta=0.0017985878990921362\n",
      "Iteration #190: W_new = [26.92420038  7.10160098], MSE = 199.43,eta=0.0016350799082655782\n",
      "Iteration #200: W_new = [27.19286742  7.05288235], MSE = 194.82,eta=0.0014864362802414347\n",
      "Iteration #210: W_new = [27.43363908  7.00922212], MSE = 190.74,eta=0.001351305709310395\n",
      "Iteration #220: W_new = [27.64969287  6.9700441 ], MSE = 187.13,eta=0.0012284597357367227\n",
      "Iteration #230: W_new = [27.84379598  6.93484649], MSE = 183.92,eta=0.0011167815779424752\n",
      "Iteration #240: W_new = [28.01836628  6.90319086], MSE = 181.07,eta=0.0010152559799477046\n",
      "Iteration #250: W_new = [28.17552299  6.87469291], MSE = 178.53,eta=0.0009229599817706405\n",
      "Iteration #260: W_new = [28.31712898  6.84901485], MSE = 176.26,eta=0.0008390545288824003\n",
      "Iteration #270: W_new = [28.44482614  6.82585894], MSE = 174.23,eta=0.0007627768444385457\n",
      "Iteration #280: W_new = [28.56006524  6.8049621 ], MSE = 172.41,eta=0.0006934334949441325\n",
      "Iteration #290: W_new = [28.66413116  6.78609136], MSE = 170.78,eta=0.0006303940863128477\n",
      "Iteration #300: W_new = [28.75816426  6.7690399 ], MSE = 169.32,eta=0.0005730855330116796\n",
      "Iteration #310: W_new = [28.84317868  6.75362385], MSE = 168.0,eta=0.000520986848192436\n",
      "Iteration #320: W_new = [28.92007797  6.73967935], MSE = 166.82,eta=0.00047362440744766905\n",
      "Iteration #330: W_new = [28.98966848  6.72706018], MSE = 165.75,eta=0.00043056764313424456\n",
      "Iteration #340: W_new = [29.05267098  6.71563565], MSE = 164.79,eta=0.00039142513012204046\n",
      "Iteration #350: W_new = [29.10973064  6.70528876], MSE = 163.92,eta=0.0003558410273836731\n",
      "Iteration #360: W_new = [29.16142572  6.69591465], MSE = 163.13,eta=0.00032349184307606645\n",
      "Iteration #370: W_new = [29.20827518  6.68741923], MSE = 162.43,eta=0.00029408349370551494\n",
      "Iteration #380: W_new = [29.25074523  6.67971794], MSE = 161.79,eta=0.0002673486306413772\n",
      "Iteration #390: W_new = [29.28925517  6.67273475], MSE = 161.21,eta=0.00024304420967397926\n",
      "Iteration #400: W_new = [29.32418243  6.66640123], MSE = 160.68,eta=0.0002209492815217993\n",
      "Iteration #410: W_new = [29.35586704  6.66065572], MSE = 160.21,eta=0.0002008629832016357\n",
      "Iteration #420: W_new = [29.38461561  6.65544261], MSE = 159.78,eta=0.00018260271200148698\n",
      "Iteration #430: W_new = [29.4107048   6.65071174], MSE = 159.39,eta=0.00016600246545589724\n",
      "Iteration #440: W_new = [29.43438439  6.64641781], MSE = 159.04,eta=0.00015091133223263384\n",
      "Iteration #450: W_new = [29.45588005  6.6425199 ], MSE = 158.72,eta=0.0001371921202114853\n",
      "Iteration #460: W_new = [29.47539577  6.63898103], MSE = 158.43,eta=0.00012472010928316846\n",
      "Iteration #470: W_new = [29.49311607  6.63576772], MSE = 158.17,eta=0.00011338191753015314\n",
      "Iteration #480: W_new = [29.50920786  6.63284973], MSE = 157.93,eta=0.00010307447048195738\n",
      "Iteration #490: W_new = [29.52382226  6.63019963], MSE = 157.71,eta=9.370406407450671e-05\n",
      "Iteration #500: W_new = [29.53709611  6.62779262], MSE = 157.51,eta=8.518551279500609e-05\n",
      "Iteration #510: W_new = [29.54915335  6.62560623], MSE = 157.34,eta=7.744137526818735e-05\n",
      "Iteration #520: W_new = [29.56010632  6.62362007], MSE = 157.18,eta=7.040125024380668e-05\n",
      "Iteration #530: W_new = [29.57005682  6.6218157 ], MSE = 157.03,eta=6.40011365852788e-05\n",
      "Iteration #540: W_new = [29.57909716  6.62017638], MSE = 156.9,eta=5.818285144116254e-05\n",
      "Iteration #550: W_new = [29.58731105  6.61868692], MSE = 156.77,eta=5.289350131014776e-05\n",
      "Iteration #560: W_new = [29.59477443  6.61733355], MSE = 156.66,eta=4.8085001191043417e-05\n",
      "Iteration #570: W_new = [29.60155618  6.61610378], MSE = 156.56,eta=4.37136374464031e-05\n",
      "Iteration #580: W_new = [29.60771881  6.61498628], MSE = 156.47,eta=3.9739670405821e-05\n",
      "Iteration #590: W_new = [29.61331906  6.61397076], MSE = 156.39,eta=3.612697309620091e-05\n",
      "Iteration #600: W_new = [29.61840843  6.61304789], MSE = 156.32,eta=3.2842702814728095e-05\n",
      "Iteration #610: W_new = [29.62303367  6.61220917], MSE = 156.25,eta=2.985700255884372e-05\n",
      "Iteration #620: W_new = [29.62723722  6.61144692], MSE = 156.19,eta=2.7142729598948835e-05\n",
      "Iteration #630: W_new = [29.63105763  6.61075415], MSE = 156.13,eta=2.467520872631712e-05\n",
      "Iteration #640: W_new = [29.63452991  6.6101245 ], MSE = 156.08,eta=2.2432007933015564e-05\n",
      "Iteration #650: W_new = [29.63768585  6.60955222], MSE = 156.03,eta=2.0392734484559602e-05\n",
      "Iteration #660: W_new = [29.64055432  6.60903207], MSE = 155.99,eta=1.853884953141782e-05\n",
      "Iteration #670: W_new = [29.64316155  6.60855929], MSE = 155.95,eta=1.6853499574016198e-05\n",
      "Iteration #680: W_new = [29.64553138  6.60812956], MSE = 155.92,eta=1.5321363249105635e-05\n",
      "Iteration #690: W_new = [29.64768546  6.60773895], MSE = 155.89,eta=1.3928512044641486e-05\n",
      "Iteration #700: W_new = [29.64964344  6.6073839 ], MSE = 155.86,eta=1.2662283676946804e-05\n",
      "Iteration #710: W_new = [29.65142321  6.60706116], MSE = 155.83,eta=1.1511166979042549e-05\n",
      "Iteration #720: W_new = [29.65304101  6.6067678 ], MSE = 155.81,eta=1.0464697253675043e-05\n",
      "Iteration #730: W_new = [29.65451158  6.60650114], MSE = 155.79,eta=9.513361139704584e-06\n",
      "Iteration #740: W_new = [29.65584834  6.60625873], MSE = 155.77,eta=8.648510127004167e-06\n",
      "Iteration #750: W_new = [29.65706348  6.60603839], MSE = 155.75,eta=7.86228193364015e-06\n",
      "Iteration #760: W_new = [29.65816807  6.60583809], MSE = 155.73,eta=7.147529030581955e-06\n",
      "Iteration #770: W_new = [29.65917217  6.60565601], MSE = 155.72,eta=6.497753664165413e-06\n",
      "Iteration #780: W_new = [29.66008493  6.6054905 ], MSE = 155.71,eta=5.90704878560492e-06\n",
      "Iteration #790: W_new = [29.66091467  6.60534004], MSE = 155.69,eta=5.370044350549927e-06\n",
      "Iteration #800: W_new = [29.66166893  6.60520326], MSE = 155.68,eta=4.881858500499934e-06\n",
      "Iteration #810: W_new = [29.6623546   6.60507893], MSE = 155.67,eta=4.438053182272666e-06\n",
      "Iteration #820: W_new = [29.6629779  6.6049659], MSE = 155.66,eta=4.03459380206606e-06\n",
      "Iteration #830: W_new = [29.66354452  6.60486315], MSE = 155.65,eta=3.667812547332781e-06\n",
      "Iteration #840: W_new = [29.66405961  6.60476975], MSE = 155.65,eta=3.3343750430298007e-06\n",
      "Iteration #850: W_new = [29.66452786  6.60468484], MSE = 155.64,eta=3.0312500391180004e-06\n",
      "Iteration #860: W_new = [29.66495353  6.60460765], MSE = 155.63,eta=2.7556818537436363e-06\n",
      "Iteration #870: W_new = [29.66534049  6.60453748], MSE = 155.63,eta=2.5051653215851236e-06\n",
      "Iteration #880: W_new = [29.66569226  6.60447369], MSE = 155.62,eta=2.2774230196228396e-06\n",
      "Iteration #890: W_new = [29.66601205  6.6044157 ], MSE = 155.62,eta=2.0703845632934903e-06\n",
      "Iteration #900: W_new = [29.66630276  6.60436299], MSE = 155.61,eta=1.8821677848122637e-06\n",
      "Iteration #910: W_new = [29.66656704  6.60431506], MSE = 155.61,eta=1.7110616225566033e-06\n",
      "Iteration #920: W_new = [29.66680729  6.6042715 ], MSE = 155.61,eta=1.5555105659605484e-06\n",
      "Iteration #930: W_new = [29.66702569  6.6042319 ], MSE = 155.6,eta=1.4141005145095893e-06\n",
      "Iteration #940: W_new = [29.66722424  6.60419589], MSE = 155.6,eta=1.2855459222814446e-06\n",
      "Iteration #950: W_new = [29.66740473  6.60416316], MSE = 155.6,eta=1.1686781111649495e-06\n",
      "Iteration #960: W_new = [29.66756881  6.60413341], MSE = 155.6,eta=1.0624346465135905e-06\n",
      "Iteration #970: W_new = [29.66771798  6.60410636], MSE = 155.59,eta=9.658496786487185e-07\n",
      "Iteration #980: W_new = [29.66785358  6.60408177], MSE = 155.59,eta=8.780451624079259e-07\n",
      "Iteration #990: W_new = [29.66797686  6.60405942], MSE = 155.59,eta=7.982228749162962e-07\n",
      "Iteration #1000: W_new = [29.66808893  6.60403909], MSE = 155.59,eta=7.256571590148147e-07\n",
      "Iteration #1010: W_new = [29.66819081  6.60402062], MSE = 155.59,eta=6.596883263771043e-07\n",
      "Iteration #1020: W_new = [29.66828342  6.60400382], MSE = 155.59,eta=5.99716660342822e-07\n",
      "Iteration #1030: W_new = [29.66836762  6.60398856], MSE = 155.58,eta=5.4519696394802e-07\n",
      "Iteration #1040: W_new = [29.66844416  6.60397468], MSE = 155.58,eta=4.956336035891091e-07\n",
      "Iteration #1050: W_new = [29.66851374  6.60396206], MSE = 155.58,eta=4.505760032628264e-07\n",
      "Iteration #1060: W_new = [29.668577    6.60395059], MSE = 155.58,eta=4.0961454842075124e-07\n",
      "Iteration #1070: W_new = [29.66863451  6.60394016], MSE = 155.58,eta=3.723768622006829e-07\n",
      "Iteration #1080: W_new = [29.66868679  6.60393068], MSE = 155.58,eta=3.3852442018243897e-07\n",
      "Iteration #1090: W_new = [29.66873431  6.60392206], MSE = 155.58,eta=3.077494728931263e-07\n",
      "Iteration #1100: W_new = [29.66877752  6.60391423], MSE = 155.58,eta=2.7977224808466023e-07\n",
      "Iteration #1110: W_new = [29.66881679  6.60390711], MSE = 155.58,eta=2.5433840734969107e-07\n",
      "Iteration #1120: W_new = [29.6688525   6.60390063], MSE = 155.58,eta=2.312167339542646e-07\n",
      "Iteration #1130: W_new = [29.66888496  6.60389475], MSE = 155.58,eta=2.1019703086751327e-07\n",
      "Iteration #1140: W_new = [29.66891447  6.60388939], MSE = 155.58,eta=1.910882098795575e-07\n",
      "Iteration #1150: W_new = [29.6689413   6.60388453], MSE = 155.58,eta=1.7371655443596134e-07\n",
      "Iteration #1160: W_new = [29.66896568  6.60388011], MSE = 155.58,eta=1.5792414039632847e-07\n",
      "Iteration #1170: W_new = [29.66898785  6.60387609], MSE = 155.57,eta=1.435674003602986e-07\n",
      "Iteration #1180: W_new = [29.66900801  6.60387243], MSE = 155.57,eta=1.3051581850936234e-07\n",
      "Iteration #1190: W_new = [29.66902633  6.60386911], MSE = 155.57,eta=1.186507440994203e-07\n",
      "Iteration #1200: W_new = [29.66904299  6.60386609], MSE = 155.57,eta=1.0786431281765481e-07\n",
      "Iteration #1210: W_new = [29.66905813  6.60386334], MSE = 155.57,eta=9.805846619786801e-08\n",
      "Iteration #1220: W_new = [29.6690719   6.60386085], MSE = 155.57,eta=8.914406017988e-08\n",
      "Iteration #1230: W_new = [29.66908441  6.60385858], MSE = 155.57,eta=8.104005470898182e-08\n",
      "Iteration #1240: W_new = [29.66909579  6.60385651], MSE = 155.57,eta=7.367277700816529e-08\n",
      "Iteration #1250: W_new = [29.66910613  6.60385464], MSE = 155.57,eta=6.69752518256048e-08\n",
      "Iteration #1260: W_new = [29.66911554  6.60385293], MSE = 155.57,eta=6.088659256873163e-08\n",
      "Iteration #1270: W_new = [29.66912408  6.60385138], MSE = 155.57,eta=5.535144778975602e-08\n",
      "Iteration #1280: W_new = [29.66913185  6.60384997], MSE = 155.57,eta=5.0319497990687285e-08\n",
      "Iteration #1290: W_new = [29.66913892  6.60384869], MSE = 155.57,eta=4.574499817335207e-08\n",
      "Iteration #1300: W_new = [29.66914534  6.60384753], MSE = 155.57,eta=4.158636197577461e-08\n",
      "Iteration #1310: W_new = [29.66915118  6.60384647], MSE = 155.57,eta=3.780578361434055e-08\n",
      "Iteration #1320: W_new = [29.66915649  6.60384551], MSE = 155.57,eta=3.436889419485504e-08\n",
      "Iteration #1330: W_new = [29.66916131  6.60384463], MSE = 155.57,eta=3.1244449268050034e-08\n",
      "Iteration #1340: W_new = [29.6691657   6.60384384], MSE = 155.57,eta=2.840404478913639e-08\n",
      "Iteration #1350: W_new = [29.66916968  6.60384311], MSE = 155.57,eta=2.5821858899214897e-08\n",
      "Iteration #1360: W_new = [29.66917331  6.60384246], MSE = 155.57,eta=2.347441718110445e-08\n",
      "Iteration #1370: W_new = [29.6691766   6.60384186], MSE = 155.57,eta=2.13403792555495e-08\n",
      "Iteration #1380: W_new = [29.6691796   6.60384132], MSE = 155.57,eta=1.940034477777227e-08\n",
      "Iteration #1390: W_new = [29.66918232  6.60384082], MSE = 155.57,eta=1.7636677070702062e-08\n",
      "Iteration #1400: W_new = [29.6691848   6.60384037], MSE = 155.57,eta=1.6033342791547328e-08\n",
      "Iteration #1410: W_new = [29.66918705  6.60383997], MSE = 155.57,eta=1.4575766174133934e-08\n",
      "Iteration #1420: W_new = [29.6691891   6.60383959], MSE = 155.57,eta=1.3250696521939938e-08\n",
      "Iteration #1430: W_new = [29.66919096  6.60383926], MSE = 155.57,eta=1.2046087747218125e-08\n",
      "Iteration #1440: W_new = [29.66919265  6.60383895], MSE = 155.57,eta=1.0950988861107385e-08\n",
      "Iteration #1450: W_new = [29.66919419  6.60383867], MSE = 155.57,eta=9.95544441918853e-09\n",
      "Iteration #1460: W_new = [29.66919558  6.60383842], MSE = 155.57,eta=9.050404017444117e-09\n",
      "Iteration #1470: W_new = [29.66919685  6.60383819], MSE = 155.57,eta=8.227640015858288e-09\n",
      "Iteration #1480: W_new = [29.66919801  6.60383798], MSE = 155.57,eta=7.479672741689353e-09\n",
      "Iteration #1490: W_new = [29.66919906  6.60383779], MSE = 155.57,eta=6.7997024924448664e-09\n",
      "Iteration #1500: W_new = [29.66920001  6.60383762], MSE = 155.57,eta=6.181547720404423e-09\n",
      "Iteration #1510: W_new = [29.66920088  6.60383746], MSE = 155.57,eta=5.619588836731293e-09\n",
      "Iteration #1520: W_new = [29.66920167  6.60383731], MSE = 155.57,eta=5.1087171243011755e-09\n",
      "Iteration #1530: W_new = [29.66920239  6.60383718], MSE = 155.57,eta=4.64428829481925e-09\n",
      "Iteration #1540: W_new = [29.66920304  6.60383707], MSE = 155.57,eta=4.2220802680175e-09\n",
      "Iteration #1550: W_new = [29.66920363  6.60383696], MSE = 155.57,eta=3.8382547891068175e-09\n",
      "Iteration #1560: W_new = [29.66920417  6.60383686], MSE = 155.57,eta=3.489322535551652e-09\n",
      "Iteration #1570: W_new = [29.66920466  6.60383677], MSE = 155.57,eta=3.172111395956047e-09\n",
      "Iteration #1580: W_new = [29.66920511  6.60383669], MSE = 155.57,eta=2.8837376326873152e-09\n",
      "Iteration #1590: W_new = [29.66920551  6.60383662], MSE = 155.57,eta=2.6215796660793772e-09\n",
      "Iteration #1600: W_new = [29.66920588  6.60383655], MSE = 155.57,eta=2.383254241890343e-09\n",
      "Iteration #1610: W_new = [29.66920621  6.60383649], MSE = 155.57,eta=2.166594765354857e-09\n",
      "Iteration #1620: W_new = [29.66920652  6.60383644], MSE = 155.57,eta=1.9696316048680514e-09\n",
      "Iteration #1630: W_new = [29.66920679  6.60383639], MSE = 155.57,eta=1.7905741862436829e-09\n",
      "Iteration #1640: W_new = [29.66920705  6.60383634], MSE = 155.57,eta=1.6277947147669843e-09\n",
      "Iteration #1650: W_new = [29.66920727  6.6038363 ], MSE = 155.57,eta=1.4798133770608948e-09\n",
      "Iteration #1660: W_new = [29.66920748  6.60383626], MSE = 155.57,eta=1.345284888237177e-09\n",
      "Iteration #1670: W_new = [29.66920767  6.60383623], MSE = 155.57,eta=1.2229862620337973e-09\n",
      "Iteration #1680: W_new = [29.66920784  6.6038362 ], MSE = 155.57,eta=1.1118056927579973e-09\n",
      "Iteration #1690: W_new = [29.669208    6.60383617], MSE = 155.57,eta=1.0107324479618156e-09\n",
      "Iteration #1700: W_new = [29.66920814  6.60383614], MSE = 155.57,eta=9.188476799652868e-10\n",
      "Iteration #1710: W_new = [29.66920827  6.60383612], MSE = 155.57,eta=8.353160726957153e-10\n",
      "Iteration #1720: W_new = [29.66920839  6.6038361 ], MSE = 155.57,eta=7.593782479051957e-10\n",
      "Iteration #1730: W_new = [29.66920849  6.60383608], MSE = 155.57,eta=6.90343861731996e-10\n",
      "Iteration #1732: W_new = [29.66920851  6.60383607], MSE = 155.57,eta=6.90343861731996e-10\n"
     ]
    }
   ],
   "source": [
    "n = X.shape[0]\n",
    "epsilon = 1e-8\n",
    "eta = 1e-2 \n",
    "#n_iter = 100\n",
    "i=0\n",
    "\n",
    "W_list=[]\n",
    "W = np.array([1, 0.5])\n",
    "print(f'Number of objects = {n} \\\n",
    "       \\nLearning rate = {eta} \\\n",
    "       \\nInitial weights = {W} \\n')\n",
    "\n",
    "while True:\n",
    "    list(map(lambda x:W_list.append(x),W))\n",
    "    y_pred = np.dot(X, W)\n",
    "    err = calc_mse(y, y_pred)\n",
    "    W -= eta * (1/n * 2 * X.T @(y_pred - y))\n",
    "    i+=1\n",
    "    if i % 10 == 0:\n",
    "        eta /= 1.1\n",
    "        print(f'Iteration #{i}: W_new = {W}, MSE = {round(err, 2)},eta={eta}')\n",
    "    try:\n",
    "        if np.abs(W_list[-1]-W_list[-3])<=epsilon and np.abs(W_list[-2]-W_list[-4])<=epsilon:\n",
    "            break\n",
    "    except:\n",
    "        continue\n",
    "print(f'Iteration #{i}: W_new = {W}, MSE = {round(err, 2)},eta={eta}')"
   ]
  },
  {
   "cell_type": "code",
   "execution_count": 111,
   "metadata": {},
   "outputs": [],
   "source": [
    "#Понадобилось 1732 итерации, чтобы дойти до значений весов, разность с предыдущими значениями которых <=эпсилон"
   ]
  }
 ],
 "metadata": {
  "kernelspec": {
   "display_name": "Python 3",
   "language": "python",
   "name": "python3"
  },
  "language_info": {
   "codemirror_mode": {
    "name": "ipython",
    "version": 3
   },
   "file_extension": ".py",
   "mimetype": "text/x-python",
   "name": "python",
   "nbconvert_exporter": "python",
   "pygments_lexer": "ipython3",
   "version": "3.7.4"
  }
 },
 "nbformat": 4,
 "nbformat_minor": 2
}
